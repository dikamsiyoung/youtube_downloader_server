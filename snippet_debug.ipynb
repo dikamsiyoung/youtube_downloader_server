{
 "metadata": {
  "language_info": {
   "codemirror_mode": {
    "name": "ipython",
    "version": 3
   },
   "file_extension": ".py",
   "mimetype": "text/x-python",
   "name": "python",
   "nbconvert_exporter": "python",
   "pygments_lexer": "ipython3",
   "version": "3.8.6-candidate"
  },
  "orig_nbformat": 2,
  "kernelspec": {
   "name": "python_defaultSpec_1600640910168",
   "display_name": "Python 3.8.6 64-bit"
  }
 },
 "nbformat": 4,
 "nbformat_minor": 2,
 "cells": [
  {
   "cell_type": "code",
   "execution_count": 1,
   "metadata": {},
   "outputs": [],
   "source": [
    "def seconds_converter(string_time):\n",
    "    time_lst = string_time.split(':')\n",
    "    hour = int(time_lst[0])\n",
    "    minute = int(time_lst[1])\n",
    "    second = int(time_lst[2])\n",
    "    return hour*3600 + minute*60 + second"
   ]
  },
  {
   "cell_type": "code",
   "execution_count": 15,
   "metadata": {},
   "outputs": [],
   "source": [
    "def download_snippet(video_link, start, end, filename):\n",
    "    _ = get_ipython().getoutput('pip install youtube-dl')\n",
    "    _ = get_ipython().getoutput('pip install ffmpeg')\n",
    "    import subprocess\n",
    "    from os import system\n",
    "    start = seconds_converter(start)\n",
    "    end = seconds_converter(end)\n",
    "    url = get_ipython().getoutput('youtube-dl -f 22 -g \"{video_link}\"')\n",
    "    result = get_ipython().getoutput(f'ffmpeg -ss {start} -i \"{url[0]}\" -t {end} -c copy \"{filename}\"')\n",
    "    return 'File Created'"
   ]
  },
  {
   "cell_type": "code",
   "execution_count": 14,
   "metadata": {
    "tags": []
   },
   "outputs": [
    {
     "output_type": "stream",
     "name": "stdout",
     "text": "['https://r1---sn-33voob-avne.googlevideo.com/videoplayback?expire=1600663386&ei=-tpnX9yXAsewxN8P6N6P0Ag&ip=102.67.29.246&id=o-AIObA3TTrGY-5ijgEwaNTN3sbsXHgUR_HgX90mO7asjj&itag=22&source=youtube&requiressl=yes&mh=jK&mm=31%2C29&mn=sn-33voob-avne%2Csn-aigzrn7s&ms=au%2Crdu&mv=m&mvi=1&pl=24&initcwndbps=457500&vprv=1&mime=video%2Fmp4&ratebypass=yes&dur=258.647&lmt=1495555127241738&mt=1600641629&fvip=1&beids=9466587&c=WEB&sparams=expire%2Cei%2Cip%2Cid%2Citag%2Csource%2Crequiressl%2Cvprv%2Cmime%2Cratebypass%2Cdur%2Clmt&sig=AOq0QJ8wRgIhAIBz4cEng-sNSxj5qFviP1ouEjOOx1TTYsgCiQmVZK8QAiEA3ltJGgjetyUQmWiXQKDd0QROHZAZZzIk21q2txyOsCU%3D&lsparams=mh%2Cmm%2Cmn%2Cms%2Cmv%2Cmvi%2Cpl%2Cinitcwndbps&lsig=AG3C_xAwRQIgCa_EIjrt7Jhqwf48s-DCBN8I2iT8dzDqcuz78SLOqBcCIQCd5uB1xho18_tHsun8Fvx-zXw0Dg6FfNDCZ-IuQBHK5A%3D%3D']\n"
    },
    {
     "output_type": "execute_result",
     "data": {
      "text/plain": "'File Created'"
     },
     "metadata": {},
     "execution_count": 14
    }
   ],
   "source": [
    "download_snippet('https://www.youtube.com/watch?v=pKp9EuZ1CCk', '00:01:30', '00:00:30', 'celebration_snippet.mp4')"
   ]
  }
 ]
}