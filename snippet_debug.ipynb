{
 "metadata": {
  "language_info": {
   "codemirror_mode": {
    "name": "ipython",
    "version": 3
   },
   "file_extension": ".py",
   "mimetype": "text/x-python",
   "name": "python",
   "nbconvert_exporter": "python",
   "pygments_lexer": "ipython3",
   "version": "3.8.6-candidate"
  },
  "orig_nbformat": 2,
  "kernelspec": {
   "name": "python_defaultSpec_1600672843176",
   "display_name": "Python 3.8.6 64-bit"
  }
 },
 "nbformat": 4,
 "nbformat_minor": 2,
 "cells": [
  {
   "cell_type": "code",
   "execution_count": 2,
   "metadata": {},
   "outputs": [],
   "source": [
    "def seconds_converter(string_time):\n",
    "    time_lst = string_time.split(':')\n",
    "    hour = int(time_lst[0])\n",
    "    minute = int(time_lst[1])\n",
    "    second = int(time_lst[2])\n",
    "    return hour*3600 + minute*60 + second"
   ]
  },
  {
   "cell_type": "code",
   "execution_count": 3,
   "metadata": {},
   "outputs": [],
   "source": [
    "def download_snippet(video_link, start, duration, filename):\n",
    "    _ = get_ipython().getoutput('pip install youtube-dl')\n",
    "    _ = get_ipython().getoutput('pip install ffmpeg')\n",
    "    start = seconds_converter(start)\n",
    "    duration = seconds_converter(duration)\n",
    "    url = get_ipython().getoutput('youtube-dl -f 22 -g \"{video_link}\"')\n",
    "    result = get_ipython().getoutput(f'ffmpeg -ss {start} -i \"{url[0]}\" -to {duration} -c copy \"{filename}\"')\n",
    "    return 'File Created'"
   ]
  },
  {
   "cell_type": "code",
   "execution_count": 4,
   "metadata": {},
   "outputs": [
    {
     "output_type": "execute_result",
     "data": {
      "text/plain": "'File Created'"
     },
     "metadata": {},
     "execution_count": 4
    }
   ],
   "source": [
    "download_snippet('https://www.youtube.com/watch?v=xMUbPhEbygc', '00:03:30', '00:03:40', 'celebration_snippet.mp4')"
   ]
  }
 ]
}